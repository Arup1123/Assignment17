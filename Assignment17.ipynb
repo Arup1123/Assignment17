{
 "cells": [
  {
   "cell_type": "markdown",
   "id": "deaeb419",
   "metadata": {},
   "source": [
    "Assignmet 17"
   ]
  },
  {
   "cell_type": "code",
   "execution_count": 2,
   "id": "25b8bed8",
   "metadata": {},
   "outputs": [],
   "source": [
    "import pandas as pd"
   ]
  },
  {
   "cell_type": "code",
   "execution_count": 1,
   "id": "1e5c8981",
   "metadata": {},
   "outputs": [
    {
     "name": "stdout",
     "output_type": "stream",
     "text": [
      "Requirement already satisfied: pandas in c:\\users\\arup\\anaconda3\\lib\\site-packages (1.5.3)\n",
      "Requirement already satisfied: pytz>=2020.1 in c:\\users\\arup\\anaconda3\\lib\\site-packages (from pandas) (2022.7)\n",
      "Requirement already satisfied: python-dateutil>=2.8.1 in c:\\users\\arup\\anaconda3\\lib\\site-packages (from pandas) (2.8.2)\n",
      "Requirement already satisfied: numpy>=1.21.0 in c:\\users\\arup\\anaconda3\\lib\\site-packages (from pandas) (1.23.5)\n",
      "Requirement already satisfied: six>=1.5 in c:\\users\\arup\\anaconda3\\lib\\site-packages (from python-dateutil>=2.8.1->pandas) (1.16.0)\n",
      "Note: you may need to restart the kernel to use updated packages.\n"
     ]
    },
    {
     "name": "stderr",
     "output_type": "stream",
     "text": [
      "WARNING: There was an error checking the latest version of pip.\n"
     ]
    }
   ],
   "source": [
    "pip install pandas"
   ]
  },
  {
   "cell_type": "markdown",
   "id": "5b9621b3",
   "metadata": {},
   "source": [
    "Q1. Create a pandas series that contains the following data:4, 8, 15, 23, and 42. Then, print the series."
   ]
  },
  {
   "cell_type": "code",
   "execution_count": 5,
   "id": "7e6acfbe",
   "metadata": {},
   "outputs": [
    {
     "name": "stdout",
     "output_type": "stream",
     "text": [
      "0     4\n",
      "1     8\n",
      "2    15\n",
      "3    16\n",
      "4    23\n",
      "5    42\n",
      "dtype: int64\n"
     ]
    }
   ],
   "source": [
    "s=pd.Series([4,8,15,16,23,42])\n",
    "print(s)"
   ]
  },
  {
   "cell_type": "code",
   "execution_count": null,
   "id": "933aad5d",
   "metadata": {},
   "outputs": [],
   "source": []
  },
  {
   "cell_type": "markdown",
   "id": "be84a41e",
   "metadata": {},
   "source": [
    "Q2. Create a variable of list type containing 10 elements in it, and apply pandas.Series function on the variable print it. "
   ]
  },
  {
   "cell_type": "code",
   "execution_count": 7,
   "id": "8ae53d80",
   "metadata": {},
   "outputs": [
    {
     "name": "stdout",
     "output_type": "stream",
     "text": [
      "0    A\n",
      "1    B\n",
      "2    C\n",
      "3    D\n",
      "4    E\n",
      "5    F\n",
      "6    G\n",
      "7    H\n",
      "8    I\n",
      "9    J\n",
      "dtype: object\n"
     ]
    }
   ],
   "source": [
    "l=['A','B','C','D','E','F','G','H','I','J']\n",
    "s1=pd.Series(l)\n",
    "print(s1)"
   ]
  },
  {
   "cell_type": "code",
   "execution_count": null,
   "id": "5fe6d1c6",
   "metadata": {},
   "outputs": [],
   "source": []
  },
  {
   "cell_type": "markdown",
   "id": "bc0dc1b6",
   "metadata": {},
   "source": [
    "Q3. Create a Pandas DataFrame that contains the following data:"
   ]
  },
  {
   "cell_type": "code",
   "execution_count": 9,
   "id": "d8da280c",
   "metadata": {},
   "outputs": [
    {
     "name": "stdout",
     "output_type": "stream",
     "text": [
      "     Name  Age  Gender\n",
      "0   Alice   25  Female\n",
      "1     Bob   30    Male\n",
      "2  Claire   27  Female\n"
     ]
    }
   ],
   "source": [
    "#Ans:\n",
    "data={'Name':['Alice','Bob','Claire'],'Age':[25,30,27],'Gender':['Female','Male','Female']}\n",
    "df=pd.DataFrame(data)\n",
    "print(df)"
   ]
  },
  {
   "cell_type": "markdown",
   "id": "21e65a07",
   "metadata": {},
   "source": [
    "Q4. What is 'DataFrame' in pandas and how is it different from pandas.series? Explain with an example."
   ]
  },
  {
   "cell_type": "markdown",
   "id": "0f69f8d8",
   "metadata": {},
   "source": [
    "Ans: Pandas DataFrame is a two-dimensional size, mutable, potentially heterogeneous tabuler data structure with labeled axes\n",
    "     (rows and columns). Pandas DataFrame consists of three principle components, the data, rows, and columns.\n",
    "     2nd part:\n",
    "     1. Pandas DataFrame is 2-dimensional. Whereas, pandas series is 1-dimensional.\n",
    "     2. Pandas DataFrame contains multiple lists of data. Whereas, pandas series contains a single list of data.\n",
    "     3. In pandas DataFrame there may be multiple keys in the dictionery. Whereas, in case of pandas series, there will be only         one key in the dictionery. \n",
    "     4. Pandas DataFrame is size-mutable. Whereas, pandas series is size-immutable.\n",
    "     "
   ]
  },
  {
   "cell_type": "code",
   "execution_count": 17,
   "id": "5803a5ae",
   "metadata": {},
   "outputs": [
    {
     "name": "stdout",
     "output_type": "stream",
     "text": [
      "0    1\n",
      "1    2\n",
      "2    3\n",
      "3    4\n",
      "dtype: int64\n",
      "   A  B  C\n",
      "0  1  3  5\n",
      "1  2  4  6\n"
     ]
    }
   ],
   "source": [
    "#Let us consider an example:\n",
    "data1=[1,2,3,4]                                                       # take a list of data data1\n",
    "series=pd.Series(data1)                                               #create a pandas series series\n",
    "data2={'A':[1,2],'B':[3,4],'C':[5,6]}                                             #create a dictionery data1\n",
    "df=pd.DataFrame(data2)                                                #create a dataFrame df\n",
    "print(series)                                                         #After print both the object, we see that series is 1-dimensional\n",
    "print(df)                                                             # like a column of excel sheet and df is 2-dimensional \n",
    "                                                                      # like a table(rows and columns)"
   ]
  },
  {
   "cell_type": "markdown",
   "id": "f125304d",
   "metadata": {},
   "source": [
    "Q5. What are some common functions you can use to manipulate data in a pandas DataFrame? Can you give an example of when you         might use one of these functions?"
   ]
  },
  {
   "cell_type": "markdown",
   "id": "c77fc2e9",
   "metadata": {},
   "source": [
    "Ans: 1. head()\n",
    "     2. tail()\n",
    "     3. merge()\n",
    "     4. describe()\n",
    "     5. loc[:]\n",
    "     6. iloc[:]\n",
    "     7. Categorical()\n",
    "     8. concat()"
   ]
  },
  {
   "cell_type": "code",
   "execution_count": 5,
   "id": "7657eba6",
   "metadata": {},
   "outputs": [
    {
     "name": "stdout",
     "output_type": "stream",
     "text": [
      "  Name Roll no  Age  Gender\n",
      "0    A     S01   20    Male\n",
      "1    B     S02   21  Female\n",
      "2    C     S03   22  Female\n",
      "3    D     S04   23  Female\n",
      "4    E     S05   21    Male\n",
      "\n",
      "  Name Roll no  Age  Gender\n",
      "0    A     S01   20    Male\n",
      "1    B     S02   21  Female\n",
      "2    C     S03   22  Female\n"
     ]
    }
   ],
   "source": [
    "df=pd.read_csv(\"test.csv\")                 #create a DataFrame from a csv file test.csv.\n",
    "h=df.head()                                #now call the head() function, by dafault this shows the 5 rows from the DataFrame df\n",
    "h1=df.head(3)                              # here we pass 3 as argument in the head function, that means this print the 3 rows\n",
    "print(h)                                   # of df.\n",
    "print()\n",
    "print(h1)"
   ]
  },
  {
   "cell_type": "markdown",
   "id": "59a73c45",
   "metadata": {},
   "source": [
    "Q6. Which of the following is mutable in nature Series, DataFrame, Panel?"
   ]
  },
  {
   "cell_type": "markdown",
   "id": "9647a2a1",
   "metadata": {},
   "source": [
    "Ans: DataFrame is mutable."
   ]
  },
  {
   "cell_type": "markdown",
   "id": "4b0fc7a7",
   "metadata": {},
   "source": [
    "Q7. Create a DataFrame using multiple Series. Explain with an example."
   ]
  },
  {
   "cell_type": "code",
   "execution_count": 16,
   "id": "60cb07d2",
   "metadata": {},
   "outputs": [
    {
     "name": "stdout",
     "output_type": "stream",
     "text": [
      "   0       1   2\n",
      "0  A       C  80\n",
      "1  B     C++  90\n",
      "2  C  Python  85\n",
      "3  D    Java  75\n",
      "4  E      C#  95\n",
      "5  F   Swift  79\n"
     ]
    }
   ],
   "source": [
    "#Ans:\n",
    "students=pd.Series(['A','B','C','D','E','F'])                   # create 3 series students, subjects, marks\n",
    "subjects=pd.Series(['C','C++','Python','Java','C#','Swift'])    #create a DataFrame df by using concat() method, where the\n",
    "marks=pd.Series([80,90,85,75,95,79])                            #serieses  students, subjects and marks are pass as a argument \n",
    "df=pd.concat([students,subjects,marks],axis=1)                  # in concat() method and axis=1 (column wise)\n",
    "print(df)                                                       #here we combine 3 series, to create the DataFrame df\n",
    "\n"
   ]
  },
  {
   "cell_type": "code",
   "execution_count": null,
   "id": "978c347e",
   "metadata": {},
   "outputs": [],
   "source": []
  }
 ],
 "metadata": {
  "kernelspec": {
   "display_name": "Python 3 (ipykernel)",
   "language": "python",
   "name": "python3"
  },
  "language_info": {
   "codemirror_mode": {
    "name": "ipython",
    "version": 3
   },
   "file_extension": ".py",
   "mimetype": "text/x-python",
   "name": "python",
   "nbconvert_exporter": "python",
   "pygments_lexer": "ipython3",
   "version": "3.10.9"
  }
 },
 "nbformat": 4,
 "nbformat_minor": 5
}
